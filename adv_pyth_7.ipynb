{
 "cells": [
  {
   "cell_type": "markdown",
   "id": "0e2aadd1",
   "metadata": {},
   "source": [
    "# 1."
   ]
  },
  {
   "cell_type": "code",
   "execution_count": 1,
   "id": "224ea9f3",
   "metadata": {},
   "outputs": [
    {
     "name": "stdout",
     "output_type": "stream",
     "text": [
      "Error: Division by zero\n"
     ]
    }
   ],
   "source": [
    "# The try statement in Python is used for exception handling. Its primary purpose is to allow you to write code that can\n",
    "# handle potential exceptions or errors gracefully, preventing your program from crashing when unexpected issues occur\n",
    "# during execution.\n",
    "\n",
    "# The structure of a try statement typically includes the following components:\n",
    "\n",
    "# a) try: This is the keyword that starts the try block. Inside this block, you write the code that might raise an exception.\n",
    "\n",
    "# b) except: After the try block, you can include one or more except blocks. Each except block specifies the type of exception \n",
    "#     it can handle. If an exception of that type occurs in the try block, the corresponding except block is executed to handle\n",
    "#     the exception.\n",
    "    \n",
    "# example:\n",
    "try:\n",
    "    # Code that may raise an exception\n",
    "    result = 10 / 0  # This will raise a ZeroDivisionError\n",
    "except ZeroDivisionError:\n",
    "    # Handle the ZeroDivisionError exception\n",
    "    print(\"Error: Division by zero\")"
   ]
  },
  {
   "cell_type": "markdown",
   "id": "987bef0c",
   "metadata": {},
   "source": [
    "# 2."
   ]
  },
  {
   "cell_type": "code",
   "execution_count": 2,
   "id": "b27643ad",
   "metadata": {},
   "outputs": [
    {
     "name": "stdout",
     "output_type": "stream",
     "text": [
      "Error: Division by zero\n"
     ]
    }
   ],
   "source": [
    "# The two most popular variations of the try statement in Python are:\n",
    "\n",
    "# a) Basic try-except block: This is the most common and straightforward use of the try statement. It consists of a try block \n",
    "#     followed by one or more except blocks to handle specific exceptions. This variation allows you to catch and handle \n",
    "#     exceptions that may occur in your code.\n",
    "    \n",
    "# example:\n",
    "try:\n",
    "    # Code that may raise an exception\n",
    "    result = 10 / 0  # This will raise a ZeroDivisionError\n",
    "except ZeroDivisionError:\n",
    "    # Handle the ZeroDivisionError exception\n",
    "    print(\"Error: Division by zero\")"
   ]
  },
  {
   "cell_type": "code",
   "execution_count": 3,
   "id": "7ac79a9e",
   "metadata": {},
   "outputs": [
    {
     "name": "stdout",
     "output_type": "stream",
     "text": [
      "No exceptions occurred\n",
      "Cleanup code executed\n"
     ]
    }
   ],
   "source": [
    "# b) try-except-else-finally block: This variation includes additional blocks like else and finally. The else block is executed \n",
    "#     if no exceptions occur in the try block, and the finally block is always executed, regardless of whether an exception \n",
    "#     occurred. This variation is useful for scenarios where you need to ensure cleanup operations or execute specific code \n",
    "#     paths based on exception handling.\n",
    "    \n",
    "# example:\n",
    "try:\n",
    "    # Code that may raise an exception\n",
    "    result = 10 / 2  # No exception will be raised\n",
    "except ZeroDivisionError:\n",
    "    # Handle the ZeroDivisionError exception\n",
    "    print(\"Error: Division by zero\")\n",
    "else:\n",
    "    # Code to execute if no exceptions occurred\n",
    "    print(\"No exceptions occurred\")\n",
    "finally:\n",
    "    # Cleanup code that always executes\n",
    "    print(\"Cleanup code executed\")"
   ]
  },
  {
   "cell_type": "markdown",
   "id": "e3aaba93",
   "metadata": {},
   "source": [
    "# 3."
   ]
  },
  {
   "cell_type": "code",
   "execution_count": 4,
   "id": "4a900ec3",
   "metadata": {},
   "outputs": [
    {
     "ename": "ValueError",
     "evalue": "Value must be non-negative",
     "output_type": "error",
     "traceback": [
      "\u001b[1;31m---------------------------------------------------------------------------\u001b[0m",
      "\u001b[1;31mValueError\u001b[0m                                Traceback (most recent call last)",
      "Cell \u001b[1;32mIn[4], line 15\u001b[0m\n\u001b[0;32m     12\u001b[0m     \u001b[38;5;28;01melse\u001b[39;00m:\n\u001b[0;32m     13\u001b[0m         \u001b[38;5;28mprint\u001b[39m(\u001b[38;5;124m\"\u001b[39m\u001b[38;5;124mValue is valid\u001b[39m\u001b[38;5;124m\"\u001b[39m)\n\u001b[1;32m---> 15\u001b[0m check_value(\u001b[38;5;241m-\u001b[39m\u001b[38;5;241m5\u001b[39m)\n",
      "Cell \u001b[1;32mIn[4], line 11\u001b[0m, in \u001b[0;36mcheck_value\u001b[1;34m(value)\u001b[0m\n\u001b[0;32m      9\u001b[0m \u001b[38;5;28;01mdef\u001b[39;00m \u001b[38;5;21mcheck_value\u001b[39m(value):\n\u001b[0;32m     10\u001b[0m     \u001b[38;5;28;01mif\u001b[39;00m value \u001b[38;5;241m<\u001b[39m \u001b[38;5;241m0\u001b[39m:\n\u001b[1;32m---> 11\u001b[0m         \u001b[38;5;28;01mraise\u001b[39;00m \u001b[38;5;167;01mValueError\u001b[39;00m(\u001b[38;5;124m\"\u001b[39m\u001b[38;5;124mValue must be non-negative\u001b[39m\u001b[38;5;124m\"\u001b[39m)\n\u001b[0;32m     12\u001b[0m     \u001b[38;5;28;01melse\u001b[39;00m:\n\u001b[0;32m     13\u001b[0m         \u001b[38;5;28mprint\u001b[39m(\u001b[38;5;124m\"\u001b[39m\u001b[38;5;124mValue is valid\u001b[39m\u001b[38;5;124m\"\u001b[39m)\n",
      "\u001b[1;31mValueError\u001b[0m: Value must be non-negative"
     ]
    }
   ],
   "source": [
    "# The raise statement in Python is used to raise an exception explicitly in your code. Its purpose is to signal that an\n",
    "# exceptional situation has occurred and the program should handle it accordingly. Here are some key points about the raise\n",
    "# statement:\n",
    "\n",
    "# a) Raising Exceptions: You can use the raise statement to raise built-in or custom exceptions at any point in your code where\n",
    "#     an error or exceptional condition is encountered.\n",
    "\n",
    "# example:\n",
    "def check_value(value):\n",
    "    if value < 0:\n",
    "        raise ValueError(\"Value must be non-negative\")\n",
    "    else:\n",
    "        print(\"Value is valid\")\n",
    "\n",
    "check_value(-5)  # This will raise a ValueError    "
   ]
  },
  {
   "cell_type": "code",
   "execution_count": 5,
   "id": "6c5a6b53",
   "metadata": {},
   "outputs": [
    {
     "name": "stdout",
     "output_type": "stream",
     "text": [
      "Custom error encountered: An error occurred during the operation\n"
     ]
    }
   ],
   "source": [
    "# b)Custom Exceptions: Besides built-in exceptions like ValueError, TypeError, etc., you can define your own custom \n",
    "#     exceptions by creating new exception classes. This allows you to raise specific types of exceptions tailored to \n",
    "#     your application's needs.\n",
    "    \n",
    "# example:\n",
    "class CustomError(Exception):\n",
    "    pass\n",
    "\n",
    "def perform_operation():\n",
    "    # Perform some operation\n",
    "    # If an error occurs, raise a custom exception\n",
    "    raise CustomError(\"An error occurred during the operation\")\n",
    "\n",
    "try:\n",
    "    perform_operation()\n",
    "except CustomError as e:\n",
    "    print(\"Custom error encountered:\", e)  "
   ]
  },
  {
   "cell_type": "code",
   "execution_count": 6,
   "id": "b7c9cd9f",
   "metadata": {},
   "outputs": [],
   "source": [
    "# c) Propagation: When an exception is raised using raise, it propagates up the call stack until it is caught and handled by\n",
    "#     an appropriate except block. If no suitable exception handler is found, the program terminates and displays the exception\n",
    "#     traceback.\n",
    "\n",
    "# d) Error Messages: You can provide an error message or additional information when raising an exception. This helps in identifying\n",
    "#     the cause of the error and providing context to the developer or user."
   ]
  },
  {
   "cell_type": "markdown",
   "id": "f7598f3b",
   "metadata": {},
   "source": [
    "# 4."
   ]
  },
  {
   "cell_type": "code",
   "execution_count": 7,
   "id": "dc9fe45d",
   "metadata": {},
   "outputs": [
    {
     "name": "stdout",
     "output_type": "stream",
     "text": [
      "5.0\n"
     ]
    },
    {
     "ename": "AssertionError",
     "evalue": "Division by zero is not allowed",
     "output_type": "error",
     "traceback": [
      "\u001b[1;31m---------------------------------------------------------------------------\u001b[0m",
      "\u001b[1;31mAssertionError\u001b[0m                            Traceback (most recent call last)",
      "Cell \u001b[1;32mIn[7], line 13\u001b[0m\n\u001b[0;32m     10\u001b[0m result \u001b[38;5;241m=\u001b[39m divide(\u001b[38;5;241m10\u001b[39m, \u001b[38;5;241m2\u001b[39m)  \u001b[38;5;66;03m# No assertion error\u001b[39;00m\n\u001b[0;32m     11\u001b[0m \u001b[38;5;28mprint\u001b[39m(result)\n\u001b[1;32m---> 13\u001b[0m result \u001b[38;5;241m=\u001b[39m divide(\u001b[38;5;241m10\u001b[39m, \u001b[38;5;241m0\u001b[39m)\n",
      "Cell \u001b[1;32mIn[7], line 7\u001b[0m, in \u001b[0;36mdivide\u001b[1;34m(x, y)\u001b[0m\n\u001b[0;32m      6\u001b[0m \u001b[38;5;28;01mdef\u001b[39;00m \u001b[38;5;21mdivide\u001b[39m(x, y):\n\u001b[1;32m----> 7\u001b[0m     \u001b[38;5;28;01massert\u001b[39;00m y \u001b[38;5;241m!=\u001b[39m \u001b[38;5;241m0\u001b[39m, \u001b[38;5;124m\"\u001b[39m\u001b[38;5;124mDivision by zero is not allowed\u001b[39m\u001b[38;5;124m\"\u001b[39m\n\u001b[0;32m      8\u001b[0m     \u001b[38;5;28;01mreturn\u001b[39;00m x \u001b[38;5;241m/\u001b[39m y\n",
      "\u001b[1;31mAssertionError\u001b[0m: Division by zero is not allowed"
     ]
    }
   ],
   "source": [
    "# The assert statement in Python is used as a debugging aid to test whether a condition is true. If the condition evaluates \n",
    "# to True, the program continues executing without any interruption. However, if the condition evaluates to False, an\n",
    "# AssertionError is raised, which typically indicates a bug or an unexpected state in the program.\n",
    "\n",
    "# example:\n",
    "def divide(x, y):\n",
    "    assert y != 0, \"Division by zero is not allowed\"\n",
    "    return x / y\n",
    "\n",
    "result = divide(10, 2)  # No assertion error\n",
    "print(result)\n",
    "\n",
    "result = divide(10, 0)  # Assertion error: Division by zero is not allowed"
   ]
  },
  {
   "cell_type": "markdown",
   "id": "82f1a75b",
   "metadata": {},
   "source": [
    "# 5."
   ]
  },
  {
   "cell_type": "code",
   "execution_count": 10,
   "id": "8ac93be8",
   "metadata": {},
   "outputs": [
    {
     "name": "stdout",
     "output_type": "stream",
     "text": [
      "\n"
     ]
    }
   ],
   "source": [
    "# The with statement in Python is used to simplify resource management, especially when dealing with file I/O operations or \n",
    "# acquiring and releasing resources like locks or network connections. It ensures that certain operations are properly \n",
    "# executed before and after a block of code, even if exceptions occur within that block.\n",
    "\n",
    "# The with statement is often used in conjunction with the as keyword, which allows you to assign a variable to the result\n",
    "# of a context manager's __enter__ method. This variable can then be used within the with block and is automatically cleaned up\n",
    "# (via the context manager's __exit__ method) after the block is executed.\n",
    " \n",
    "# example:\n",
    "# Open a file and read its contents using with/as\n",
    "with open('example.txt', 'r') as file:\n",
    "    data = file.read()\n",
    "    print(data)  # Process file contents\n",
    "\n",
    "# File is automatically closed after the with block"
   ]
  },
  {
   "cell_type": "code",
   "execution_count": null,
   "id": "acf4f9c9",
   "metadata": {},
   "outputs": [],
   "source": []
  }
 ],
 "metadata": {
  "kernelspec": {
   "display_name": "Python 3 (ipykernel)",
   "language": "python",
   "name": "python3"
  },
  "language_info": {
   "codemirror_mode": {
    "name": "ipython",
    "version": 3
   },
   "file_extension": ".py",
   "mimetype": "text/x-python",
   "name": "python",
   "nbconvert_exporter": "python",
   "pygments_lexer": "ipython3",
   "version": "3.11.5"
  }
 },
 "nbformat": 4,
 "nbformat_minor": 5
}
